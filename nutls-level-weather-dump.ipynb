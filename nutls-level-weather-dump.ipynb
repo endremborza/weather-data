{
 "cells": [
  {
   "cell_type": "code",
   "execution_count": null,
   "id": "a95c9659",
   "metadata": {},
   "outputs": [],
   "source": [
    "import datetime as dt\n",
    "import tempfile\n",
    "import zipfile\n",
    "\n",
    "from itertools import product, groupby\n",
    "from pathlib import Path\n",
    "\n",
    "import datazimmer as dz\n",
    "import geopandas as gpd\n",
    "import numpy as np\n",
    "import pandas as pd\n",
    "\n",
    "from netCDF4 import Dataset\n",
    "from tqdm.notebook import tqdm"
   ]
  },
  {
   "cell_type": "code",
   "execution_count": null,
   "id": "81e09590",
   "metadata": {},
   "outputs": [],
   "source": [
    "dump_tmp_dir = Path.home() / \"tmp\" / \"weather-dump-cache\"\n",
    "dump_tmp_dir.mkdir(exist_ok=True, parents=True)"
   ]
  },
  {
   "cell_type": "code",
   "execution_count": null,
   "id": "5a30e879",
   "metadata": {},
   "outputs": [],
   "source": [
    "# https://ec.europa.eu/eurostat/web/gisco/geodata/reference-data/administrative-units-statistical-units/nuts\n",
    "nuts3_gdf = gpd.read_file(\n",
    "    dump_tmp_dir / \"NUTS_RG_01M_2021_4326.shp.zip\", crs=\"EPSG:4326\"\n",
    ").loc[lambda df: df[\"LEVL_CODE\"] == 3]"
   ]
  },
  {
   "cell_type": "code",
   "execution_count": null,
   "id": "0f90b55d",
   "metadata": {},
   "outputs": [],
   "source": [
    "tcol, lonc, latc = mcols = [\"time\", \"longitude\", \"latitude\"]\n",
    "ind_names = [latc, lonc]"
   ]
  },
  {
   "cell_type": "code",
   "execution_count": null,
   "id": "645f10aa",
   "metadata": {},
   "outputs": [],
   "source": [
    "# copernicus export\n",
    "zip_path = (\n",
    "    dump_tmp_dir\n",
    "    / \"dataset-insitu-gridded-observations-europe-31d0017a-a2ee-41a8-afda-90492da8d8b2.zip\"\n",
    ")"
   ]
  },
  {
   "cell_type": "code",
   "execution_count": null,
   "id": "52d8c0ee",
   "metadata": {},
   "outputs": [],
   "source": [
    "dump_dir = dump_tmp_dir / \"nuts-level-dumps\"\n",
    "dump_dir.mkdir(exist_ok=True)"
   ]
  },
  {
   "cell_type": "code",
   "execution_count": null,
   "id": "be859bd0",
   "metadata": {},
   "outputs": [],
   "source": [
    "def dump_out(dfs, i, out_desc, dump_dir):\n",
    "    gdf = (\n",
    "        pd.concat(dfs)\n",
    "        .pipe(\n",
    "            lambda df: gpd.GeoDataFrame(\n",
    "                df,\n",
    "                geometry=gpd.points_from_xy(df[lonc], df[latc]),\n",
    "                crs=\"EPSG:4326\",  # \"EPSG:4326\"  / 3035\n",
    "            )\n",
    "        )\n",
    "        .drop([lonc, latc], axis=1)\n",
    "    )\n",
    "\n",
    "    nuts_mean_df = (\n",
    "        gpd.sjoin(nuts3_gdf, gdf, how=\"inner\", predicate=\"contains\")\n",
    "        .groupby([\"NUTS_ID\", \"day\"])[out_desc]\n",
    "        .mean()\n",
    "        .reset_index()\n",
    "    )\n",
    "    nuts_mean_df.to_parquet(dump_dir / f\"{out_desc}-{i}.parquet\")"
   ]
  },
  {
   "cell_type": "code",
   "execution_count": null,
   "id": "280be590",
   "metadata": {},
   "outputs": [],
   "source": [
    "with zipfile.ZipFile(zip_path) as zfp, tempfile.TemporaryDirectory() as tmpdir:\n",
    "    for f in tqdm(zfp.filelist):\n",
    "        zfp.extract(f, tmpdir)\n",
    "        ofile = Path(tmpdir, f.filename)\n",
    "        rootgrp = Dataset(ofile, \"r\", format=\"NETCDF4\")\n",
    "\n",
    "        out_col = next(filter(lambda e: e not in mcols, rootgrp.variables.keys()))\n",
    "\n",
    "        out_var = rootgrp.variables[out_col]\n",
    "        out_desc = out_var.long_name.replace(\" \", \"_\").lower()\n",
    "\n",
    "        geo_ind = pd.MultiIndex.from_tuples(\n",
    "            product(*[rootgrp.variables[c][:].data for c in ind_names]), names=ind_names\n",
    "        )\n",
    "\n",
    "        start_date = dt.date.fromisoformat(rootgrp.variables[tcol].units.split()[-2])\n",
    "        dfs = []\n",
    "        for i in tqdm(range(out_var.shape[0])):\n",
    "            dfs.append(\n",
    "                pd.Series(\n",
    "                    np.reshape(out_var[i : i + 1], geo_ind.shape[0]).data, index=geo_ind\n",
    "                )\n",
    "                .loc[lambda s: s != out_var._FillValue]\n",
    "                .rename(out_desc)\n",
    "                .reset_index()\n",
    "                .assign(day=start_date + dt.timedelta(days=i))\n",
    "            )\n",
    "            if (i + 1) % 100 == 0:\n",
    "                dump_out(dfs, i, out_desc, dump_dir)\n",
    "                dfs = []\n",
    "        if dfs:\n",
    "            dump_out(dfs, i, out_desc, dump_dir)"
   ]
  },
  {
   "cell_type": "code",
   "execution_count": null,
   "id": "2d1027f8",
   "metadata": {},
   "outputs": [],
   "source": [
    "complete_df = pd.concat(\n",
    "    (\n",
    "        pd.concat(map(pd.read_parquet, gpl)).set_index([\"NUTS_ID\", \"day\"]).sort_index()\n",
    "        for _, gpl in groupby(\n",
    "            sorted(dump_dir.iterdir()), lambda p: p.name.split(\"-\")[0]\n",
    "        )\n",
    "    ),\n",
    "    axis=1,\n",
    ")"
   ]
  },
  {
   "cell_type": "code",
   "execution_count": null,
   "id": "75aaaf06",
   "metadata": {},
   "outputs": [],
   "source": [
    "complete_df.to_parquet(dump_tmp_dir / \"complete_eu.parquet\")"
   ]
  },
  {
   "cell_type": "code",
   "execution_count": null,
   "id": "8ea5d325",
   "metadata": {},
   "outputs": [],
   "source": [
    "cyears = pd.to_datetime(complete_df.index.get_level_values(\"day\")).year"
   ]
  },
  {
   "cell_type": "code",
   "execution_count": null,
   "id": "fcacb369",
   "metadata": {},
   "outputs": [],
   "source": [
    "out_dir = dz.get_raw_data_path(\"yearly-nuts-weather-dumps\")\n",
    "out_dir.mkdir(exist_ok=True)"
   ]
  },
  {
   "cell_type": "code",
   "execution_count": null,
   "id": "e8ce1aca",
   "metadata": {},
   "outputs": [],
   "source": [
    "for gid, gdf in tqdm(complete_df.groupby(cyears)):\n",
    "    gdf.round(1).to_csv(out_dir / f\"{gid}.csv.gz\")"
   ]
  },
  {
   "cell_type": "code",
   "execution_count": null,
   "id": "a39735ce",
   "metadata": {},
   "outputs": [],
   "source": [
    "nuts3_gdf.merge(\n",
    "    complete_df.loc[(slice(None), dt.date(2013, 1, 11)), :].reset_index()\n",
    ").plot(\"maximum_temperature\", figsize=(15, 7), legend=True)"
   ]
  }
 ],
 "metadata": {
  "kernelspec": {
   "display_name": "Python 3 (ipykernel)",
   "language": "python",
   "name": "python3"
  },
  "language_info": {
   "codemirror_mode": {
    "name": "ipython",
    "version": 3
   },
   "file_extension": ".py",
   "mimetype": "text/x-python",
   "name": "python",
   "nbconvert_exporter": "python",
   "pygments_lexer": "ipython3",
   "version": "3.10.6"
  }
 },
 "nbformat": 4,
 "nbformat_minor": 5
}
